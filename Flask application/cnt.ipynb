{
  "nbformat": 4,
  "nbformat_minor": 0,
  "metadata": {
    "colab": {
      "provenance": [],
      "toc_visible": true
    },
    "kernelspec": {
      "name": "python3",
      "display_name": "Python 3"
    },
    "language_info": {
      "name": "python"
    }
  },
  "cells": [
    {
      "cell_type": "code",
      "execution_count": null,
      "metadata": {
        "colab": {
          "base_uri": "https://localhost:8080/"
        },
        "id": "HqPe4ZDMQ-nV",
        "outputId": "376be050-d69f-4afc-d694-ba8262117e17"
      },
      "outputs": [
        {
          "output_type": "stream",
          "name": "stdout",
          "text": [
            "Looking in indexes: https://pypi.org/simple, https://us-python.pkg.dev/colab-wheels/public/simple/\n",
            "Requirement already satisfied: mne in /usr/local/lib/python3.9/dist-packages (1.3.1)\n",
            "Requirement already satisfied: decorator in /usr/local/lib/python3.9/dist-packages (from mne) (4.4.2)\n",
            "Requirement already satisfied: tqdm in /usr/local/lib/python3.9/dist-packages (from mne) (4.65.0)\n",
            "Requirement already satisfied: packaging in /usr/local/lib/python3.9/dist-packages (from mne) (23.0)\n",
            "Requirement already satisfied: matplotlib in /usr/local/lib/python3.9/dist-packages (from mne) (3.7.1)\n",
            "Requirement already satisfied: jinja2 in /usr/local/lib/python3.9/dist-packages (from mne) (3.1.2)\n",
            "Requirement already satisfied: pooch>=1.5 in /usr/local/lib/python3.9/dist-packages (from mne) (1.6.0)\n",
            "Requirement already satisfied: numpy>=1.15.4 in /usr/local/lib/python3.9/dist-packages (from mne) (1.22.4)\n",
            "Requirement already satisfied: scipy>=1.1.0 in /usr/local/lib/python3.9/dist-packages (from mne) (1.10.1)\n",
            "Requirement already satisfied: requests>=2.19.0 in /usr/local/lib/python3.9/dist-packages (from pooch>=1.5->mne) (2.27.1)\n",
            "Requirement already satisfied: appdirs>=1.3.0 in /usr/local/lib/python3.9/dist-packages (from pooch>=1.5->mne) (1.4.4)\n",
            "Requirement already satisfied: MarkupSafe>=2.0 in /usr/local/lib/python3.9/dist-packages (from jinja2->mne) (2.1.2)\n",
            "Requirement already satisfied: contourpy>=1.0.1 in /usr/local/lib/python3.9/dist-packages (from matplotlib->mne) (1.0.7)\n",
            "Requirement already satisfied: pillow>=6.2.0 in /usr/local/lib/python3.9/dist-packages (from matplotlib->mne) (8.4.0)\n",
            "Requirement already satisfied: importlib-resources>=3.2.0 in /usr/local/lib/python3.9/dist-packages (from matplotlib->mne) (5.12.0)\n",
            "Requirement already satisfied: fonttools>=4.22.0 in /usr/local/lib/python3.9/dist-packages (from matplotlib->mne) (4.39.2)\n",
            "Requirement already satisfied: python-dateutil>=2.7 in /usr/local/lib/python3.9/dist-packages (from matplotlib->mne) (2.8.2)\n",
            "Requirement already satisfied: cycler>=0.10 in /usr/local/lib/python3.9/dist-packages (from matplotlib->mne) (0.11.0)\n",
            "Requirement already satisfied: kiwisolver>=1.0.1 in /usr/local/lib/python3.9/dist-packages (from matplotlib->mne) (1.4.4)\n",
            "Requirement already satisfied: pyparsing>=2.3.1 in /usr/local/lib/python3.9/dist-packages (from matplotlib->mne) (3.0.9)\n",
            "Requirement already satisfied: zipp>=3.1.0 in /usr/local/lib/python3.9/dist-packages (from importlib-resources>=3.2.0->matplotlib->mne) (3.15.0)\n",
            "Requirement already satisfied: six>=1.5 in /usr/local/lib/python3.9/dist-packages (from python-dateutil>=2.7->matplotlib->mne) (1.16.0)\n",
            "Requirement already satisfied: charset-normalizer~=2.0.0 in /usr/local/lib/python3.9/dist-packages (from requests>=2.19.0->pooch>=1.5->mne) (2.0.12)\n",
            "Requirement already satisfied: idna<4,>=2.5 in /usr/local/lib/python3.9/dist-packages (from requests>=2.19.0->pooch>=1.5->mne) (3.4)\n",
            "Requirement already satisfied: certifi>=2017.4.17 in /usr/local/lib/python3.9/dist-packages (from requests>=2.19.0->pooch>=1.5->mne) (2022.12.7)\n",
            "Requirement already satisfied: urllib3<1.27,>=1.21.1 in /usr/local/lib/python3.9/dist-packages (from requests>=2.19.0->pooch>=1.5->mne) (1.26.15)\n",
            "Looking in indexes: https://pypi.org/simple, https://us-python.pkg.dev/colab-wheels/public/simple/\n",
            "Requirement already satisfied: mne in /usr/local/lib/python3.9/dist-packages (1.3.1)\n",
            "Requirement already satisfied: networkx in /usr/local/lib/python3.9/dist-packages (3.0)\n",
            "Requirement already satisfied: numpy>=1.15.4 in /usr/local/lib/python3.9/dist-packages (from mne) (1.22.4)\n",
            "Requirement already satisfied: pooch>=1.5 in /usr/local/lib/python3.9/dist-packages (from mne) (1.6.0)\n",
            "Requirement already satisfied: matplotlib in /usr/local/lib/python3.9/dist-packages (from mne) (3.7.1)\n",
            "Requirement already satisfied: scipy>=1.1.0 in /usr/local/lib/python3.9/dist-packages (from mne) (1.10.1)\n",
            "Requirement already satisfied: tqdm in /usr/local/lib/python3.9/dist-packages (from mne) (4.65.0)\n",
            "Requirement already satisfied: decorator in /usr/local/lib/python3.9/dist-packages (from mne) (4.4.2)\n",
            "Requirement already satisfied: jinja2 in /usr/local/lib/python3.9/dist-packages (from mne) (3.1.2)\n",
            "Requirement already satisfied: packaging in /usr/local/lib/python3.9/dist-packages (from mne) (23.0)\n",
            "Requirement already satisfied: requests>=2.19.0 in /usr/local/lib/python3.9/dist-packages (from pooch>=1.5->mne) (2.27.1)\n",
            "Requirement already satisfied: appdirs>=1.3.0 in /usr/local/lib/python3.9/dist-packages (from pooch>=1.5->mne) (1.4.4)\n",
            "Requirement already satisfied: MarkupSafe>=2.0 in /usr/local/lib/python3.9/dist-packages (from jinja2->mne) (2.1.2)\n",
            "Requirement already satisfied: cycler>=0.10 in /usr/local/lib/python3.9/dist-packages (from matplotlib->mne) (0.11.0)\n",
            "Requirement already satisfied: pillow>=6.2.0 in /usr/local/lib/python3.9/dist-packages (from matplotlib->mne) (8.4.0)\n",
            "Requirement already satisfied: importlib-resources>=3.2.0 in /usr/local/lib/python3.9/dist-packages (from matplotlib->mne) (5.12.0)\n",
            "Requirement already satisfied: python-dateutil>=2.7 in /usr/local/lib/python3.9/dist-packages (from matplotlib->mne) (2.8.2)\n",
            "Requirement already satisfied: contourpy>=1.0.1 in /usr/local/lib/python3.9/dist-packages (from matplotlib->mne) (1.0.7)\n",
            "Requirement already satisfied: fonttools>=4.22.0 in /usr/local/lib/python3.9/dist-packages (from matplotlib->mne) (4.39.2)\n",
            "Requirement already satisfied: kiwisolver>=1.0.1 in /usr/local/lib/python3.9/dist-packages (from matplotlib->mne) (1.4.4)\n",
            "Requirement already satisfied: pyparsing>=2.3.1 in /usr/local/lib/python3.9/dist-packages (from matplotlib->mne) (3.0.9)\n",
            "Requirement already satisfied: zipp>=3.1.0 in /usr/local/lib/python3.9/dist-packages (from importlib-resources>=3.2.0->matplotlib->mne) (3.15.0)\n",
            "Requirement already satisfied: six>=1.5 in /usr/local/lib/python3.9/dist-packages (from python-dateutil>=2.7->matplotlib->mne) (1.16.0)\n",
            "Requirement already satisfied: certifi>=2017.4.17 in /usr/local/lib/python3.9/dist-packages (from requests>=2.19.0->pooch>=1.5->mne) (2022.12.7)\n",
            "Requirement already satisfied: idna<4,>=2.5 in /usr/local/lib/python3.9/dist-packages (from requests>=2.19.0->pooch>=1.5->mne) (3.4)\n",
            "Requirement already satisfied: urllib3<1.27,>=1.21.1 in /usr/local/lib/python3.9/dist-packages (from requests>=2.19.0->pooch>=1.5->mne) (1.26.15)\n",
            "Requirement already satisfied: charset-normalizer~=2.0.0 in /usr/local/lib/python3.9/dist-packages (from requests>=2.19.0->pooch>=1.5->mne) (2.0.12)\n"
          ]
        }
      ],
      "source": [
        "!pip install mne\n",
        "import mne\n",
        "import matplotlib\n",
        "import matplotlib.pyplot as plt\n",
        "import pandas as pd\n",
        "from scipy.stats import kurtosis\n",
        "import scipy\n",
        "from scipy import stats\n",
        "import numpy as np\n",
        "import librosa\n",
        "import librosa.display\n",
        "import IPython.display as ipd\n",
        "import scipy as sp\n",
        "!pip install mne networkx\n",
        "import networkx as nx"
      ]
    },
    {
      "cell_type": "code",
      "source": [
        "from google.colab import drive\n",
        "drive.mount('/content/drive')"
      ],
      "metadata": {
        "colab": {
          "base_uri": "https://localhost:8080/"
        },
        "id": "SKviSFUUVbKP",
        "outputId": "c68b8292-14ec-4fff-d8e8-315d0d2af162"
      },
      "execution_count": null,
      "outputs": [
        {
          "output_type": "stream",
          "name": "stdout",
          "text": [
            "Drive already mounted at /content/drive; to attempt to forcibly remount, call drive.mount(\"/content/drive\", force_remount=True).\n"
          ]
        }
      ]
    },
    {
      "cell_type": "code",
      "source": [
        "def read_data(file_path):\n",
        "  raw = mne.io.read_raw_cnt(file_path, preload=True)\n",
        "  # content = content.drop_channels([\"T\",\"X\",\"Y\"])\n",
        "  f_channels = [ch_name for ch_name in raw.ch_names if ch_name.startswith('F')]\n",
        "  # Extract the data from the \"F\" channels\n",
        "  raw_f = raw.copy().pick_channels(f_channels)\n",
        "  eeg_data = raw_f.pick_types(eeg=True).get_data()\n",
        "  df = pd.DataFrame(eeg_data.T, columns=raw_f.ch_names)\n",
        "  print(df)\n",
        "  # Preprocess\n",
        "  raw.filter(l_freq=1, h_freq=40)\n",
        "  # For example, to remove eye blinks using ICA\n",
        "  ica = mne.preprocessing.ICA(n_components=20, random_state=42)\n",
        "  ica.fit(raw)\n",
        "  ica.exclude = [0, 1]  # indices of ICs to exclude\n",
        "  raw = ica.apply(raw)\n",
        "\n",
        "\n",
        "  raw.set_eeg_reference(ref_channels='average')\n",
        "  raw.set_eeg_reference(ref_channels='average', projection=True)\n",
        "\n",
        "  annotations = mne.Annotations(onset=[1, 5, 9], duration=[1, 1, 1], description=['Event 1', 'Event 2', 'Event 3'])\n",
        "  raw.set_annotations(annotations)\n",
        "\n",
        "  # Extract events from the annotations\n",
        "  events, event_id = mne.events_from_annotations(raw)\n",
        "  # raw.annotations\n",
        "  # print(event_id)\n",
        "\n",
        "  # stim_channel = 'HEOL'\n",
        "  # events = mne.find_events(raw,stim_channel=stim_channel)\n",
        "  # event_id = {'event_name': 1}\n",
        "  tmin, tmax = -0.2, 0.5\n",
        "  try:\n",
        "      # events = mne.find_events(raw)\n",
        "      epochs = mne.Epochs(raw, events, event_id, tmin=-0.2, tmax=0.5, baseline=None)\n",
        "  except ValueError as e:\n",
        "      print(\"Error:\", e)\n",
        "  print(events)\n",
        "  return raw\n"
      ],
      "metadata": {
        "id": "dJ4U9Y8WXAWU"
      },
      "execution_count": null,
      "outputs": []
    },
    {
      "cell_type": "code",
      "source": [
        "from glob import glob\n",
        "all_file_path=glob(\"/content/drive/MyDrive/cntfiles/Raw Data/*/*/*.cnt\")\n",
        "# all_file_path=glob(\"/content/drive/MyDrive/setfiles/*.set\")\n",
        "print(all_file_path)"
      ],
      "metadata": {
        "colab": {
          "base_uri": "https://localhost:8080/"
        },
        "id": "1LTXA2qHWKSa",
        "outputId": "f86dac68-8bcd-4a4f-af6e-6bfc7a1b96b4"
      },
      "execution_count": null,
      "outputs": [
        {
          "output_type": "stream",
          "name": "stdout",
          "text": [
            "['/content/drive/MyDrive/cntfiles/Raw Data/6/6/Fatigue state.cnt', '/content/drive/MyDrive/cntfiles/Raw Data/6/6/Normal state.cnt', '/content/drive/MyDrive/cntfiles/Raw Data/12/12/Normal state.cnt', '/content/drive/MyDrive/cntfiles/Raw Data/12/12/Fatigue state.cnt', '/content/drive/MyDrive/cntfiles/Raw Data/11/11/Fatigue state.cnt', '/content/drive/MyDrive/cntfiles/Raw Data/11/11/Normal state.cnt', '/content/drive/MyDrive/cntfiles/Raw Data/4/4/Fatigue state.cnt', '/content/drive/MyDrive/cntfiles/Raw Data/4/4/Normal state.cnt', '/content/drive/MyDrive/cntfiles/Raw Data/3/3/Fatigue state.cnt', '/content/drive/MyDrive/cntfiles/Raw Data/3/3/Normal state.cnt', '/content/drive/MyDrive/cntfiles/Raw Data/5/5/Fatigue state.cnt', '/content/drive/MyDrive/cntfiles/Raw Data/5/5/Normal state.cnt', '/content/drive/MyDrive/cntfiles/Raw Data/2/2/Normal state.cnt', '/content/drive/MyDrive/cntfiles/Raw Data/2/2/Fatigue state.cnt', '/content/drive/MyDrive/cntfiles/Raw Data/7/7/Fatigue state.cnt', '/content/drive/MyDrive/cntfiles/Raw Data/7/7/Normal state.cnt', '/content/drive/MyDrive/cntfiles/Raw Data/10/10/Fatigue state.cnt', '/content/drive/MyDrive/cntfiles/Raw Data/10/10/Normal state.cnt', '/content/drive/MyDrive/cntfiles/Raw Data/1/1/Fatigue state_1.cnt', '/content/drive/MyDrive/cntfiles/Raw Data/1/1/Normal state.cnt', '/content/drive/MyDrive/cntfiles/Raw Data/9/9/Fatigue state.cnt', '/content/drive/MyDrive/cntfiles/Raw Data/9/9/Normal state.cnt', '/content/drive/MyDrive/cntfiles/Raw Data/8/8/Fatigue state.cnt', '/content/drive/MyDrive/cntfiles/Raw Data/8/8/Normal state.cnt']\n"
          ]
        }
      ]
    },
    {
      "cell_type": "code",
      "source": [
        "sample_data=[read_data(i) for i in all_file_path]\n",
        "#data=read_data(\"/content/drive/MyDrive/preprocessed/sub0.set\")\n",
        "# content=mne.io.read_raw_eeglab(\"/content/drive/MyDrive/preprocessed/sub0.set\", eog=(), preload=True)\n",
        "# data=content.get_data()\n",
        "# print(len(sample_data))\n"
      ],
      "metadata": {
        "id": "4BKbe55LXUYM",
        "colab": {
          "base_uri": "https://localhost:8080/",
          "height": 243
        },
        "outputId": "921f92dd-15f6-40ba-db4a-d4d570d6cace"
      },
      "execution_count": null,
      "outputs": [
        {
          "output_type": "error",
          "ename": "NameError",
          "evalue": "ignored",
          "traceback": [
            "\u001b[0;31m---------------------------------------------------------------------------\u001b[0m",
            "\u001b[0;31mNameError\u001b[0m                                 Traceback (most recent call last)",
            "\u001b[0;32m<ipython-input-1-341a45cb65fa>\u001b[0m in \u001b[0;36m<module>\u001b[0;34m\u001b[0m\n\u001b[0;32m----> 1\u001b[0;31m \u001b[0msample_data\u001b[0m\u001b[0;34m=\u001b[0m\u001b[0;34m[\u001b[0m\u001b[0mread_data\u001b[0m\u001b[0;34m(\u001b[0m\u001b[0mi\u001b[0m\u001b[0;34m)\u001b[0m \u001b[0;32mfor\u001b[0m \u001b[0mi\u001b[0m \u001b[0;32min\u001b[0m \u001b[0mall_file_path\u001b[0m\u001b[0;34m]\u001b[0m\u001b[0;34m\u001b[0m\u001b[0;34m\u001b[0m\u001b[0m\n\u001b[0m\u001b[1;32m      2\u001b[0m \u001b[0;31m#data=read_data(\"/content/drive/MyDrive/preprocessed/sub0.set\")\u001b[0m\u001b[0;34m\u001b[0m\u001b[0;34m\u001b[0m\u001b[0m\n\u001b[1;32m      3\u001b[0m \u001b[0;31m# content=mne.io.read_raw_eeglab(\"/content/drive/MyDrive/preprocessed/sub0.set\", eog=(), preload=True)\u001b[0m\u001b[0;34m\u001b[0m\u001b[0;34m\u001b[0m\u001b[0m\n\u001b[1;32m      4\u001b[0m \u001b[0;31m# data=content.get_data()\u001b[0m\u001b[0;34m\u001b[0m\u001b[0;34m\u001b[0m\u001b[0m\n\u001b[1;32m      5\u001b[0m \u001b[0;31m# print(len(sample_data))\u001b[0m\u001b[0;34m\u001b[0m\u001b[0;34m\u001b[0m\u001b[0m\n",
            "\u001b[0;31mNameError\u001b[0m: name 'all_file_path' is not defined"
          ]
        }
      ]
    },
    {
      "cell_type": "code",
      "source": [
        "raw = mne.io.read_raw_cnt('/content/drive/MyDrive/cntfiles/Raw Data/2/2/Fatigue state.cnt', preload=True)"
      ],
      "metadata": {
        "id": "Zn03O6MmWUeb"
      },
      "execution_count": null,
      "outputs": []
    },
    {
      "cell_type": "code",
      "source": [
        "print(raw.info)"
      ],
      "metadata": {
        "id": "oly_e3LvpcpW"
      },
      "execution_count": null,
      "outputs": []
    },
    {
      "cell_type": "code",
      "source": [
        "scalings= {'eeg': 1e-3}\n",
        "raw.plot(n_channels=40, scalings=scalings, title='EEG Data', block=True)"
      ],
      "metadata": {
        "id": "If_UN0OpRVEE"
      },
      "execution_count": null,
      "outputs": []
    },
    {
      "cell_type": "code",
      "source": [
        "data, times = raw[:]\n",
        "\n",
        "# Create figure and axis objects\n",
        "fig, ax = plt.subplots(figsize=(20,10))\n",
        "\n",
        "# Plot EEG data with adjusted scalings\n",
        "ax.plot(times, data.T * 100e-2)  # Adjust the scaling factor (100e-6) to your preference\n",
        "\n",
        "# Set axis labels and title\n",
        "ax.set_xlabel('Time (s)')\n",
        "ax.set_ylabel('Amplitude (V)')\n",
        "ax.set_title('EEG Data')\n",
        "\n",
        "# Show plot\n",
        "plt.show()\n"
      ],
      "metadata": {
        "id": "FsxgMOdip25O"
      },
      "execution_count": null,
      "outputs": []
    },
    {
      "cell_type": "code",
      "source": [
        "f_channels = [ch_name for ch_name in raw.ch_names if ch_name.startswith('F')]\n",
        "\n",
        "# Extract the data from the \"F\" channels\n",
        "raw_f = raw.copy().pick_channels(f_channels)\n",
        "eeg_data = raw_f.pick_types(eeg=True).get_data()\n",
        "df = pd.DataFrame(eeg_data.T, columns=raw_f.ch_names)\n",
        "df\n",
        "# Plot the data from the \"F\" channels\n",
        "# raw_f.plot(scalings=scalings, title='EEG Data')\n"
      ],
      "metadata": {
        "id": "qE8DWHLuViBJ"
      },
      "execution_count": null,
      "outputs": []
    },
    {
      "cell_type": "code",
      "source": [
        "# Preprocess\n",
        "raw.filter(l_freq=1, h_freq=40)\n",
        "# For example, to remove eye blinks using ICA\n",
        "ica = mne.preprocessing.ICA(n_components=20, random_state=42)\n",
        "ica.fit(raw)\n",
        "ica.exclude = [0, 1]  # indices of ICs to exclude\n",
        "raw = ica.apply(raw)\n",
        "\n",
        "\n",
        "raw.set_eeg_reference(ref_channels='average')\n",
        "raw.set_eeg_reference(ref_channels='average', projection=True)\n",
        "\n",
        "annotations = mne.Annotations(onset=[1, 5, 9], duration=[1, 1, 1], description=['Event 1', 'Event 2', 'Event 3'])\n",
        "raw.set_annotations(annotations)\n",
        "\n",
        "# Extract events from the annotations\n",
        "events, event_id = mne.events_from_annotations(raw)\n",
        "# raw.annotations\n",
        "# print(event_id)\n",
        "\n",
        "# stim_channel = 'HEOL'\n",
        "# events = mne.find_events(raw,stim_channel=stim_channel)\n",
        "# event_id = {'event_name': 1}\n",
        "tmin, tmax = -0.2, 0.5\n",
        "try:\n",
        "    # events = mne.find_events(raw)\n",
        "    epochs = mne.Epochs(raw, events, event_id, tmin=-0.2, tmax=0.5, baseline=None)\n",
        "except ValueError as e:\n",
        "    print(\"Error:\", e)\n",
        "print(events)"
      ],
      "metadata": {
        "id": "H35FgCVBdXma"
      },
      "execution_count": null,
      "outputs": []
    },
    {
      "cell_type": "code",
      "source": [
        "mne.viz.plot_raw(raw)"
      ],
      "metadata": {
        "id": "JeH1WfU-g-TG"
      },
      "execution_count": null,
      "outputs": []
    },
    {
      "cell_type": "code",
      "source": [
        "stim_channel = 'FP1'\n",
        "events = mne.find_events(raw,stim_channel=stim_channel)\n",
        "print(events)"
      ],
      "metadata": {
        "id": "PPoxQ714gchl"
      },
      "execution_count": null,
      "outputs": []
    },
    {
      "cell_type": "code",
      "source": [
        "print(sample_data[0])"
      ],
      "metadata": {
        "id": "iBaRJGCxWanC"
      },
      "execution_count": null,
      "outputs": []
    },
    {
      "cell_type": "code",
      "source": [
        "df = pd.DataFrame(sample_data[0].T, columns=raw_f.ch_names)\n",
        "df"
      ],
      "metadata": {
        "id": "YUogFOwHYfHq"
      },
      "execution_count": null,
      "outputs": []
    },
    {
      "cell_type": "code",
      "source": [
        "mne.viz.plot_raw(sample_data[0])"
      ],
      "metadata": {
        "id": "Gn27wrTOWZG4"
      },
      "execution_count": null,
      "outputs": []
    }
  ]
}